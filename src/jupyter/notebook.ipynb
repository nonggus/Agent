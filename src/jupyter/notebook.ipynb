{
 "cells": [
  {
   "cell_type": "code",
   "execution_count": 1,
   "id": "02c98f03",
   "metadata": {},
   "outputs": [],
   "source": [
    "import os\n",
    "import sys\n",
    "import asyncio\n",
    "from google.adk.sessions import InMemorySessionService\n",
    "from google.adk.runners import Runner\n",
    "from google.genai import types # For creating message Content/Parts\n",
    "project_root = os.path.abspath(os.path.join(os.getcwd(), \"..\"))\n",
    "sys.path.append(project_root)\n"
   ]
  },
  {
   "cell_type": "code",
   "execution_count": 2,
   "id": "434ae822",
   "metadata": {},
   "outputs": [],
   "source": [
    "from python.agents.analyst_agent import analyst_agent"
   ]
  },
  {
   "cell_type": "code",
   "execution_count": 3,
   "id": "e140ea34",
   "metadata": {},
   "outputs": [
    {
     "name": "stdout",
     "output_type": "stream",
     "text": [
      "Session created: App='test_app', User='user_1', Session='session_001'\n",
      "Runner created for agent 'analyst_agent'.\n"
     ]
    }
   ],
   "source": [
    "session_service = InMemorySessionService()\n",
    "APP_NAME = \"test_app\"\n",
    "USER_ID = \"user_1\"\n",
    "SESSION_ID = \"session_001\" # Using a fixed ID for simplicity\n",
    "\n",
    "session = session_service.create_session(\n",
    "    app_name=APP_NAME,\n",
    "    user_id=USER_ID,\n",
    "    session_id=SESSION_ID\n",
    ")\n",
    "\n",
    "print(f\"Session created: App='{APP_NAME}', User='{USER_ID}', Session='{SESSION_ID}'\")\n",
    "\n",
    "# --- Runner ---\n",
    "# Key Concept: Runner orchestrates the agent execution loop.\n",
    "runner = Runner(\n",
    "    agent=analyst_agent, # The agent we want to run\n",
    "    app_name=APP_NAME,   # Associates runs with our app\n",
    "    session_service=session_service # Uses our session manager\n",
    ")\n",
    "print(f\"Runner created for agent '{runner.agent.name}'.\")"
   ]
  },
  {
   "cell_type": "code",
   "execution_count": 4,
   "id": "2c1cb1c2",
   "metadata": {},
   "outputs": [],
   "source": [
    "def call_agent(query):\n",
    "    content = types.Content(role='user', parts=[types.Part(text=query)])\n",
    "    events = runner.run(user_id=USER_ID, session_id=SESSION_ID, new_message=content)\n",
    "    \n",
    "    for event in events:\n",
    "        if event.get_function_calls:\n",
    "            for call in event.get_function_calls():\n",
    "                print(f\"  Tool: {call.name}, Args: {call.args}\")\n",
    "        if event.is_final_response():\n",
    "            return event.content.parts[0].text"
   ]
  },
  {
   "cell_type": "code",
   "execution_count": 5,
   "id": "6b13dd15",
   "metadata": {},
   "outputs": [
    {
     "name": "stdout",
     "output_type": "stream",
     "text": [
      "  Tool: transfer_to_agent, Args: {'agent_name': 'search_agent'}\n",
      "  Tool: fetch_financial_data, Args: {'symbol': 'PTT'}\n",
      "  Tool: transfer_to_agent, Args: {'agent_name': 'analyst_agent'}\n"
     ]
    }
   ],
   "source": [
    "query = \"วิเคราะห์หุ้นปตท\"\n",
    "r1 = call_agent(query)"
   ]
  },
  {
   "cell_type": "code",
   "execution_count": 6,
   "id": "6eeb7ecf",
   "metadata": {},
   "outputs": [
    {
     "name": "stdout",
     "output_type": "stream",
     "text": [
      "Response: จากการวิเคราะห์งบการเงินของ ปตท. (PTT) ในช่วง 5 ปีที่ผ่านมา (2563-2567):\n",
      "\n",
      "**ภาพรวมผลประกอบการ:**\n",
      "\n",
      "*   **รายได้:** มีความผันผวนตามราคาน้ำมันและสภาวะเศรษฐกิจโลก โดยรายได้เติบโตขึ้นอย่างมากในปี 2564 และ 2565 ก่อนจะปรับตัวลดลงเล็กน้อยในปี 2566 และ 2567\n",
      "*   **กำไรสุทธิ:** มีทิศทางสอดคล้องกับรายได้ โดยกำไรสุทธิเพิ่มขึ้นอย่างโดดเด่นในปี 2564 และ 2565 แต่ลดลงในปี 2566 และ 2567 สาเหตุหลักมาจากความผันผวนของราคาพลังงานและต้นทุนการผลิตที่สูงขึ้น\n",
      "*   **กระแสเงินสด:** กระแสเงินสดจากการดำเนินงานค่อนข้างแข็งแกร่ง แต่กระแสเงินสดอิสระ (Free Cash Flow) มีความผันผวน ซึ่งเป็นผลมาจากการลงทุนในโครงการต่างๆ\n",
      "\n",
      "**ฐานะทางการเงิน:**\n",
      "\n",
      "*   **สินทรัพย์:** สินทรัพย์รวมของ ปตท. เพิ่มขึ้นอย่างต่อเนื่องในช่วง 5 ปีที่ผ่านมา สะท้อนถึงการขยายตัวของธุรกิจ\n",
      "*   **หนี้สิน:** หนี้สินรวมเพิ่มขึ้นเช่นกัน โดยมีสัดส่วนหนี้สินต่อส่วนของผู้ถือหุ้น (Debt-to-Equity Ratio) ค่อนข้างสูง แต่ยังอยู่ในระดับที่บริหารจัดการได้\n",
      "*   **สภาพคล่อง:** สภาพคล่องของ ปตท. ยังอยู่ในเกณฑ์ดี โดยมีสินทรัพย์หมุนเวียนมากกว่าหนี้สินหมุนเวียน\n",
      "\n",
      "**แนวโน้มในอนาคต (6 เดือน - 1 ปี):**\n",
      "\n",
      "*   จากข้อมูลล่าสุดปี 2567 พบว่ารายได้ลดลงเล็กน้อยเมื่อเทียบกับปีก่อนหน้า (-1.73%) และกำไรสุทธิลดลงอย่างมีนัยสำคัญ (-19.6%)\n",
      "*   คาดการณ์ว่าในอนาคตอันใกล้ ผลประกอบการของ ปตท. จะยังคงมีความผันผวน โดยขึ้นอยู่กับปัจจัยภายนอก เช่น ราคาน้ำมันดิบในตลาดโลก อัตราแลกเปลี่ยน และภาวะเศรษฐกิจโดยรวม\n",
      "*   ปตท. ยังคงต้องเผชิญกับความท้าทายจากต้นทุนการผลิตที่สูงขึ้น และการเปลี่ยนผ่านไปสู่พลังงานสะอาด ซึ่งอาจส่งผลกระทบต่อผลกำไรในระยะยาว\n",
      "\n",
      "**โดยสรุป:** ปตท. เป็นบริษัทพลังงานขนาดใหญ่ที่มีฐานะทางการเงินมั่นคง แต่ผลประกอบการมีความผันผวนตามปัจจัยภายนอก นักลงทุนควรติดตามสถานการณ์ราคาพลังงานและนโยบายของรัฐบาลอย่างใกล้ชิด เพื่อประเมินแนวโน้มของ ปตท. ในอนาคต\n",
      "\n"
     ]
    }
   ],
   "source": [
    "print(f\"Response: {r1}\")"
   ]
  },
  {
   "cell_type": "code",
   "execution_count": 7,
   "id": "1097a8c6",
   "metadata": {},
   "outputs": [
    {
     "name": "stdout",
     "output_type": "stream",
     "text": [
      "  Tool: transfer_to_agent, Args: {'agent_name': 'search_agent'}\n",
      "  Tool: fetch_financial_data, Args: {'symbol': 'SCB'}\n",
      "  Tool: transfer_to_agent, Args: {'agent_name': 'analyst_agent'}\n"
     ]
    }
   ],
   "source": [
    "query = \"รายได้ของ SCB เพิ่มขึ้นหรือเปล่า ละเอียด\"\n",
    "r2 = call_agent(query)"
   ]
  },
  {
   "cell_type": "code",
   "execution_count": 8,
   "id": "612e89ef",
   "metadata": {},
   "outputs": [
    {
     "name": "stdout",
     "output_type": "stream",
     "text": [
      "Response: จากข้อมูลที่ได้รับ SCB มีรายได้เพิ่มขึ้นในช่วง 5 ปีที่ผ่านมา แต่มีรายละเอียดที่น่าสนใจดังนี้:\n",
      "\n",
      "*   **ปี 2563:** รายได้รวม 98,118 ล้านบาท\n",
      "*   **ปี 2564:** รายได้รวม 108,318 ล้านบาท (เพิ่มขึ้น 10.39% YoY)\n",
      "*   **ปี 2565:** รายได้รวม 120,592 ล้านบาท (เพิ่มขึ้น 11.33% YoY)\n",
      "*   **ปี 2566:** รายได้รวม 127,503 ล้านบาท (เพิ่มขึ้น 5.73% YoY)\n",
      "*   **ปี 2567:** รายได้รวม 129,779 ล้านบาท (เพิ่มขึ้น 1.79% YoY)\n",
      "*   **ไตรมาส 1 ปี 2568 (TTM):** รายได้รวม 130,412 ล้านบาท (เพิ่มขึ้น 0.84% YoY)\n",
      "\n",
      "**สรุป:**\n",
      "\n",
      "SCB มีแนวโน้มรายได้เพิ่มขึ้นอย่างต่อเนื่องตั้งแต่ปี 2563 ถึงปี 2567 อย่างไรก็ตาม อัตราการเติบโตของรายได้เริ่มชะลอตัวลงในปี 2566 และ 2567 และยังคงเติบโตในอัตราที่ต่ำในไตรมาส 1 ปี 2568 เมื่อเทียบกับช่วงเดียวกันของปีก่อนหน้า\n",
      "\n",
      "**รายละเอียดเพิ่มเติม:**\n",
      "\n",
      "*   การเติบโตของรายได้ส่วนใหญ่มาจากรายได้ดอกเบี้ยสุทธิ (Net Interest Income) ที่เพิ่มขึ้น\n",
      "*   อย่างไรก็ตาม รายได้ที่ไม่ใช่ดอกเบี้ย (Non-Interest Income) มีความผันผวน และมีแนวโน้มลดลงเล็กน้อยในปีล่าสุด\n",
      "*   SCB ยังคงต้องเผชิญกับความท้าทายในการควบคุมค่าใช้จ่ายและบริหารจัดการคุณภาพสินทรัพย์ เพื่อรักษาการเติบโตของกำไรในระยะยาว\n",
      "\n"
     ]
    }
   ],
   "source": [
    "print(f\"Response: {r2}\")"
   ]
  },
  {
   "cell_type": "code",
   "execution_count": 9,
   "id": "d5255706",
   "metadata": {},
   "outputs": [
    {
     "name": "stdout",
     "output_type": "stream",
     "text": [
      "  Tool: transfer_to_agent, Args: {'agent_name': 'search_agent'}\n",
      "  Tool: fetch_financial_data, Args: {'symbol': 'BCP'}\n",
      "  Tool: transfer_to_agent, Args: {'agent_name': 'analyst_agent'}\n"
     ]
    }
   ],
   "source": [
    "query = \"วิเคราะห์หุ้นบางจาก\"\n",
    "r3 = call_agent(query)"
   ]
  },
  {
   "cell_type": "code",
   "execution_count": 10,
   "id": "65047ad3",
   "metadata": {},
   "outputs": [
    {
     "name": "stdout",
     "output_type": "stream",
     "text": [
      "Response: จากการวิเคราะห์งบการเงินของ บมจ.บางจาก คอร์ปอเรชั่น (BCP) ในช่วง 5 ปีที่ผ่านมา (พ.ศ. 2563-2567):\n",
      "\n",
      "**ภาพรวมผลประกอบการ:**\n",
      "\n",
      "*   **รายได้:** มีการเติบโตอย่างมีนัยสำคัญ โดยเฉพาะในปี 2565 และ 2567 ซึ่งมีอัตราการเติบโตของรายได้สูงถึง 64.49% และ 52.88% ตามลำดับ แสดงถึงการฟื้นตัวของธุรกิจหลังสถานการณ์โควิด-19 และการขยายตัวของธุรกิจ\n",
      "*   **กำไรสุทธิ:** แม้ว่ารายได้จะเติบโต แต่กำไรสุทธิกลับมีความผันผวนอย่างมาก โดยในปี 2567 กำไรสุทธิลดลงถึง 83.49% เมื่อเทียบกับปีก่อนหน้า สาเหตุหลักมาจากต้นทุนการผลิตที่สูงขึ้น และค่าใช้จ่ายในการดำเนินงานที่เพิ่มขึ้น\n",
      "*   **กระแสเงินสด:** กระแสเงินสดจากการดำเนินงานค่อนข้างผันผวน แต่โดยรวมยังคงเป็นบวก อย่างไรก็ตาม กระแสเงินสดอิสระ (Free Cash Flow) ก็มีความผันผวนเช่นกัน ซึ่งเป็นผลมาจากการลงทุนในโครงการต่างๆ และการเปลี่ยนแปลงของเงินทุนหมุนเวียน\n",
      "\n",
      "**ฐานะทางการเงิน:**\n",
      "\n",
      "*   **สินทรัพย์:** สินทรัพย์รวมของ BCP เพิ่มขึ้นอย่างต่อเนื่องในช่วง 5 ปีที่ผ่านมา สะท้อนถึงการขยายตัวของธุรกิจ\n",
      "*   **หนี้สิน:** หนี้สินรวมเพิ่มขึ้นเช่นกัน โดยมีสัดส่วนหนี้สินต่อส่วนของผู้ถือหุ้น (Debt-to-Equity Ratio) ค่อนข้างสูง แต่ยังอยู่ในระดับที่บริหารจัดการได้\n",
      "*   **สภาพคล่อง:** สภาพคล่องของ BCP ยังอยู่ในเกณฑ์ที่ต้องเฝ้าระวัง โดยมีสินทรัพย์หมุนเวียนมากกว่าหนี้สินหมุนเวียนเล็กน้อย\n",
      "\n",
      "**แนวโน้มในอนาคต (6 เดือน - 1 ปี):**\n",
      "\n",
      "*   จากข้อมูลล่าสุดปี 2567 พบว่ารายได้ยังคงเติบโตในอัตราที่สูง แต่กำไรสุทธิลดลงอย่างมาก แสดงให้เห็นถึงความท้าทายในการบริหารจัดการต้นทุนและค่าใช้จ่าย\n",
      "*   คาดการณ์ว่าในอนาคตอันใกล้ ผลประกอบการของ BCP จะยังคงมีความผันผวน โดยขึ้นอยู่กับปัจจัยภายนอก เช่น ราคาน้ำมันดิบในตลาดโลก อัตราแลกเปลี่ยน และภาวะเศรษฐกิจโดยรวม\n",
      "*   BCP ยังคงต้องเผชิญกับความท้าทายในการรักษาอัตรากำไร และบริหารจัดการหนี้สินให้มีประสิทธิภาพ\n",
      "\n",
      "**โดยสรุป:** BCP เป็นบริษัทพลังงานที่มีการเติบโตของรายได้ที่น่าสนใจ แต่ยังมีความผันผวนในด้านกำไรสุทธิและกระแสเงินสด นักลงทุนควรพิจารณาถึงความเสี่ยงที่เกี่ยวข้องกับปัจจัยภายนอก และความสามารถในการบริหารจัดการต้นทุนของบริษัทอย่างรอบคอบ\n",
      "\n"
     ]
    }
   ],
   "source": [
    "print(f\"Response: {r3}\")"
   ]
  },
  {
   "cell_type": "code",
   "execution_count": 11,
   "id": "edf40181",
   "metadata": {},
   "outputs": [
    {
     "name": "stdout",
     "output_type": "stream",
     "text": [
      "  Tool: transfer_to_agent, Args: {'agent_name': 'search_agent'}\n",
      "  Tool: fetch_financial_data, Args: {'symbol': 'TRUE'}\n",
      "  Tool: transfer_to_agent, Args: {'agent_name': 'analyst_agent'}\n"
     ]
    }
   ],
   "source": [
    "query = \"สภาพคล่องการเงินหุ้นทรูเป็นยังไง\"\n",
    "r4 = call_agent(query)"
   ]
  },
  {
   "cell_type": "code",
   "execution_count": 12,
   "id": "7cf35801",
   "metadata": {},
   "outputs": [
    {
     "name": "stdout",
     "output_type": "stream",
     "text": [
      "Response: จากการวิเคราะห์ข้อมูลทางการเงินล่าสุดของ TRUE (ข้อมูล TTM สิ้นสุดวันที่ 31 มีนาคม 2525 และงบปี 2567):\n",
      "\n",
      "**สินทรัพย์และหนี้สินหมุนเวียน:**\n",
      "\n",
      "*   TRUE มีสินทรัพย์หมุนเวียน (Total Current Assets) น้อยกว่าหนี้สินหมุนเวียน (Total Current Liabilities) อย่างมาก โดยมี Working Capital ติดลบถึง -117,221 ล้านบาท ในช่วง TTM และ -115,403 ล้านบาท ในปี 2567 แสดงว่าบริษัทอาจมีปัญหาในการชำระหนี้สินระยะสั้น\n",
      "*   เงินสดและรายการเทียบเท่าเงินสด (Cash & Equivalents) ลดลงอย่างมาก (-51.02% YoY) ในช่วง TTM และ -20.18% ในปี 2567 บ่งชี้ถึงสภาพคล่องที่ตึงตัวขึ้น\n",
      "\n",
      "**กระแสเงินสด:**\n",
      "\n",
      "*   กระแสเงินสดจากการดำเนินงาน (Operating Cash Flow) ยังคงเป็นบวกที่ 77,821 ล้านบาท (TTM) และ 78,446 ล้านบาท (ปี 2567) แต่ลดลง -5.72% YoY ในช่วง TTM\n",
      "*   กระแสเงินสดอิสระ (Free Cash Flow) เป็นบวกที่ 52,519 ล้านบาท (TTM) และ 52,166 ล้านบาท (ปี 2567) อย่างไรก็ตาม อัตรากำไรจากกระแสเงินสดอิสระ (Free Cash Flow Margin) ค่อนข้างต่ำที่ 25.48% (TTM)\n",
      "\n",
      "**สรุป:**\n",
      "\n",
      "หุ้น TRUE มีสภาพคล่องทางการเงินที่น่ากังวล เนื่องจากมีหนี้สินหมุนเวียนมากกว่าสินทรัพย์หมุนเวียนอย่างมาก และมีเงินสดลดลง แม้ว่ากระแสเงินสดจากการดำเนินงานและกระแสเงินสดอิสระยังคงเป็นบวก แต่ก็ยังต้องติดตามสถานการณ์อย่างใกล้ชิด\n",
      "\n"
     ]
    }
   ],
   "source": [
    "print(f\"Response: {r4}\")"
   ]
  }
 ],
 "metadata": {
  "kernelspec": {
   "display_name": ".venv",
   "language": "python",
   "name": "python3"
  },
  "language_info": {
   "codemirror_mode": {
    "name": "ipython",
    "version": 3
   },
   "file_extension": ".py",
   "mimetype": "text/x-python",
   "name": "python",
   "nbconvert_exporter": "python",
   "pygments_lexer": "ipython3",
   "version": "3.12.7"
  }
 },
 "nbformat": 4,
 "nbformat_minor": 5
}
